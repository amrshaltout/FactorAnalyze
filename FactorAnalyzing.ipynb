{
 "cells": [
  {
   "cell_type": "code",
   "execution_count": 1,
   "id": "c3be007c",
   "metadata": {},
   "outputs": [],
   "source": [
    "import pandas as pd\n",
    "import numpy as np\n",
    "import sklearn.datasets\n",
    "from factor_analyzer import FactorAnalyzer"
   ]
  },
  {
   "cell_type": "markdown",
   "id": "59e852c6",
   "metadata": {},
   "source": [
    "### Data Cleaning and Preprocessing"
   ]
  },
  {
   "cell_type": "code",
   "execution_count": 2,
   "id": "f523d1ff",
   "metadata": {},
   "outputs": [
    {
     "data": {
      "text/html": [
       "<div>\n",
       "<style scoped>\n",
       "    .dataframe tbody tr th:only-of-type {\n",
       "        vertical-align: middle;\n",
       "    }\n",
       "\n",
       "    .dataframe tbody tr th {\n",
       "        vertical-align: top;\n",
       "    }\n",
       "\n",
       "    .dataframe thead th {\n",
       "        text-align: right;\n",
       "    }\n",
       "</style>\n",
       "<table border=\"1\" class=\"dataframe\">\n",
       "  <thead>\n",
       "    <tr style=\"text-align: right;\">\n",
       "      <th></th>\n",
       "      <th>Academic record</th>\n",
       "      <th>Appearance</th>\n",
       "      <th>Communication</th>\n",
       "      <th>Company Fit</th>\n",
       "      <th>Experience</th>\n",
       "      <th>Job Fit</th>\n",
       "      <th>Letter</th>\n",
       "      <th>Likeability</th>\n",
       "      <th>Organization</th>\n",
       "      <th>Potential</th>\n",
       "      <th>Resume</th>\n",
       "      <th>Self-Confidence</th>\n",
       "    </tr>\n",
       "  </thead>\n",
       "  <tbody>\n",
       "    <tr>\n",
       "      <th>0</th>\n",
       "      <td>6.0</td>\n",
       "      <td>8.0</td>\n",
       "      <td>7.0</td>\n",
       "      <td>5.0</td>\n",
       "      <td>6.0</td>\n",
       "      <td>5.0</td>\n",
       "      <td>7.0</td>\n",
       "      <td>7.0</td>\n",
       "      <td>7.0</td>\n",
       "      <td>6.0</td>\n",
       "      <td>7.0</td>\n",
       "      <td>7.0</td>\n",
       "    </tr>\n",
       "    <tr>\n",
       "      <th>1</th>\n",
       "      <td>9.0</td>\n",
       "      <td>8.0</td>\n",
       "      <td>8.0</td>\n",
       "      <td>8.0</td>\n",
       "      <td>10.0</td>\n",
       "      <td>9.0</td>\n",
       "      <td>8.0</td>\n",
       "      <td>9.0</td>\n",
       "      <td>8.0</td>\n",
       "      <td>9.0</td>\n",
       "      <td>9.0</td>\n",
       "      <td>9.0</td>\n",
       "    </tr>\n",
       "    <tr>\n",
       "      <th>2</th>\n",
       "      <td>6.0</td>\n",
       "      <td>7.0</td>\n",
       "      <td>7.0</td>\n",
       "      <td>6.0</td>\n",
       "      <td>6.0</td>\n",
       "      <td>7.0</td>\n",
       "      <td>7.0</td>\n",
       "      <td>8.0</td>\n",
       "      <td>8.0</td>\n",
       "      <td>6.0</td>\n",
       "      <td>6.0</td>\n",
       "      <td>8.0</td>\n",
       "    </tr>\n",
       "    <tr>\n",
       "      <th>3</th>\n",
       "      <td>7.0</td>\n",
       "      <td>8.0</td>\n",
       "      <td>6.0</td>\n",
       "      <td>5.0</td>\n",
       "      <td>8.0</td>\n",
       "      <td>5.0</td>\n",
       "      <td>9.0</td>\n",
       "      <td>8.0</td>\n",
       "      <td>7.0</td>\n",
       "      <td>8.0</td>\n",
       "      <td>7.0</td>\n",
       "      <td>7.0</td>\n",
       "    </tr>\n",
       "    <tr>\n",
       "      <th>4</th>\n",
       "      <td>4.0</td>\n",
       "      <td>7.0</td>\n",
       "      <td>8.0</td>\n",
       "      <td>6.0</td>\n",
       "      <td>6.0</td>\n",
       "      <td>6.0</td>\n",
       "      <td>6.0</td>\n",
       "      <td>7.0</td>\n",
       "      <td>8.0</td>\n",
       "      <td>5.0</td>\n",
       "      <td>4.0</td>\n",
       "      <td>6.0</td>\n",
       "    </tr>\n",
       "  </tbody>\n",
       "</table>\n",
       "</div>"
      ],
      "text/plain": [
       "   Academic record  Appearance  Communication  Company Fit  Experience  \\\n",
       "0              6.0         8.0            7.0          5.0         6.0   \n",
       "1              9.0         8.0            8.0          8.0        10.0   \n",
       "2              6.0         7.0            7.0          6.0         6.0   \n",
       "3              7.0         8.0            6.0          5.0         8.0   \n",
       "4              4.0         7.0            8.0          6.0         6.0   \n",
       "\n",
       "   Job Fit  Letter  Likeability  Organization  Potential  Resume  \\\n",
       "0      5.0     7.0          7.0           7.0        6.0     7.0   \n",
       "1      9.0     8.0          9.0           8.0        9.0     9.0   \n",
       "2      7.0     7.0          8.0           8.0        6.0     6.0   \n",
       "3      5.0     9.0          8.0           7.0        8.0     7.0   \n",
       "4      6.0     6.0          7.0           8.0        5.0     4.0   \n",
       "\n",
       "   Self-Confidence  \n",
       "0              7.0  \n",
       "1              9.0  \n",
       "2              8.0  \n",
       "3              7.0  \n",
       "4              6.0  "
      ]
     },
     "execution_count": 2,
     "metadata": {},
     "output_type": "execute_result"
    }
   ],
   "source": [
    "df = pd.read_csv(\"C:/Users/USER/Desktop/BigData/FactorAnalysis.csv\")\n",
    "df.head()"
   ]
  },
  {
   "cell_type": "code",
   "execution_count": 3,
   "id": "b240a52a",
   "metadata": {
    "scrolled": false
   },
   "outputs": [
    {
     "data": {
      "text/html": [
       "<div>\n",
       "<style scoped>\n",
       "    .dataframe tbody tr th:only-of-type {\n",
       "        vertical-align: middle;\n",
       "    }\n",
       "\n",
       "    .dataframe tbody tr th {\n",
       "        vertical-align: top;\n",
       "    }\n",
       "\n",
       "    .dataframe thead th {\n",
       "        text-align: right;\n",
       "    }\n",
       "</style>\n",
       "<table border=\"1\" class=\"dataframe\">\n",
       "  <thead>\n",
       "    <tr style=\"text-align: right;\">\n",
       "      <th></th>\n",
       "      <th>Academic record</th>\n",
       "      <th>Appearance</th>\n",
       "      <th>Communication</th>\n",
       "      <th>Company Fit</th>\n",
       "      <th>Experience</th>\n",
       "      <th>Job Fit</th>\n",
       "      <th>Letter</th>\n",
       "      <th>Likeability</th>\n",
       "      <th>Organization</th>\n",
       "      <th>Potential</th>\n",
       "      <th>Resume</th>\n",
       "      <th>Self-Confidence</th>\n",
       "    </tr>\n",
       "  </thead>\n",
       "  <tbody>\n",
       "    <tr>\n",
       "      <th>52</th>\n",
       "      <td>NaN</td>\n",
       "      <td>NaN</td>\n",
       "      <td>NaN</td>\n",
       "      <td>NaN</td>\n",
       "      <td>NaN</td>\n",
       "      <td>NaN</td>\n",
       "      <td>NaN</td>\n",
       "      <td>NaN</td>\n",
       "      <td>NaN</td>\n",
       "      <td>NaN</td>\n",
       "      <td>NaN</td>\n",
       "      <td>NaN</td>\n",
       "    </tr>\n",
       "    <tr>\n",
       "      <th>53</th>\n",
       "      <td>8.0</td>\n",
       "      <td>7.0</td>\n",
       "      <td>6.0</td>\n",
       "      <td>7.0</td>\n",
       "      <td>9.0</td>\n",
       "      <td>6.0</td>\n",
       "      <td>8.0</td>\n",
       "      <td>9.0</td>\n",
       "      <td>7.0</td>\n",
       "      <td>9.0</td>\n",
       "      <td>8.0</td>\n",
       "      <td>8.0</td>\n",
       "    </tr>\n",
       "    <tr>\n",
       "      <th>54</th>\n",
       "      <td>6.0</td>\n",
       "      <td>7.0</td>\n",
       "      <td>6.0</td>\n",
       "      <td>8.0</td>\n",
       "      <td>7.0</td>\n",
       "      <td>7.0</td>\n",
       "      <td>7.0</td>\n",
       "      <td>8.0</td>\n",
       "      <td>6.0</td>\n",
       "      <td>6.0</td>\n",
       "      <td>8.0</td>\n",
       "      <td>8.0</td>\n",
       "    </tr>\n",
       "    <tr>\n",
       "      <th>55</th>\n",
       "      <td>8.0</td>\n",
       "      <td>7.0</td>\n",
       "      <td>5.0</td>\n",
       "      <td>5.0</td>\n",
       "      <td>9.0</td>\n",
       "      <td>6.0</td>\n",
       "      <td>7.0</td>\n",
       "      <td>6.0</td>\n",
       "      <td>5.0</td>\n",
       "      <td>8.0</td>\n",
       "      <td>8.0</td>\n",
       "      <td>7.0</td>\n",
       "    </tr>\n",
       "    <tr>\n",
       "      <th>56</th>\n",
       "      <td>7.0</td>\n",
       "      <td>8.0</td>\n",
       "      <td>10.0</td>\n",
       "      <td>8.0</td>\n",
       "      <td>8.0</td>\n",
       "      <td>8.0</td>\n",
       "      <td>9.0</td>\n",
       "      <td>7.0</td>\n",
       "      <td>9.0</td>\n",
       "      <td>7.0</td>\n",
       "      <td>10.0</td>\n",
       "      <td>8.0</td>\n",
       "    </tr>\n",
       "  </tbody>\n",
       "</table>\n",
       "</div>"
      ],
      "text/plain": [
       "    Academic record  Appearance  Communication  Company Fit  Experience  \\\n",
       "52              NaN         NaN            NaN          NaN         NaN   \n",
       "53              8.0         7.0            6.0          7.0         9.0   \n",
       "54              6.0         7.0            6.0          8.0         7.0   \n",
       "55              8.0         7.0            5.0          5.0         9.0   \n",
       "56              7.0         8.0           10.0          8.0         8.0   \n",
       "\n",
       "    Job Fit  Letter  Likeability  Organization  Potential  Resume  \\\n",
       "52      NaN     NaN          NaN           NaN        NaN     NaN   \n",
       "53      6.0     8.0          9.0           7.0        9.0     8.0   \n",
       "54      7.0     7.0          8.0           6.0        6.0     8.0   \n",
       "55      6.0     7.0          6.0           5.0        8.0     8.0   \n",
       "56      8.0     9.0          7.0           9.0        7.0    10.0   \n",
       "\n",
       "    Self-Confidence  \n",
       "52              NaN  \n",
       "53              8.0  \n",
       "54              8.0  \n",
       "55              7.0  \n",
       "56              8.0  "
      ]
     },
     "execution_count": 3,
     "metadata": {},
     "output_type": "execute_result"
    }
   ],
   "source": [
    "df.tail()"
   ]
  },
  {
   "cell_type": "code",
   "execution_count": 4,
   "id": "5195c90c",
   "metadata": {
    "scrolled": true
   },
   "outputs": [
    {
     "data": {
      "text/html": [
       "<div>\n",
       "<style scoped>\n",
       "    .dataframe tbody tr th:only-of-type {\n",
       "        vertical-align: middle;\n",
       "    }\n",
       "\n",
       "    .dataframe tbody tr th {\n",
       "        vertical-align: top;\n",
       "    }\n",
       "\n",
       "    .dataframe thead th {\n",
       "        text-align: right;\n",
       "    }\n",
       "</style>\n",
       "<table border=\"1\" class=\"dataframe\">\n",
       "  <thead>\n",
       "    <tr style=\"text-align: right;\">\n",
       "      <th></th>\n",
       "      <th>Academic record</th>\n",
       "      <th>Appearance</th>\n",
       "      <th>Communication</th>\n",
       "      <th>Company Fit</th>\n",
       "      <th>Experience</th>\n",
       "      <th>Job Fit</th>\n",
       "      <th>Letter</th>\n",
       "      <th>Likeability</th>\n",
       "      <th>Organization</th>\n",
       "      <th>Potential</th>\n",
       "      <th>Resume</th>\n",
       "      <th>Self-Confidence</th>\n",
       "    </tr>\n",
       "  </thead>\n",
       "  <tbody>\n",
       "    <tr>\n",
       "      <th>count</th>\n",
       "      <td>55.000000</td>\n",
       "      <td>55.000000</td>\n",
       "      <td>56.000000</td>\n",
       "      <td>55.000000</td>\n",
       "      <td>54.000000</td>\n",
       "      <td>56.000000</td>\n",
       "      <td>56.000000</td>\n",
       "      <td>56.00000</td>\n",
       "      <td>56.000000</td>\n",
       "      <td>56.000000</td>\n",
       "      <td>56.000000</td>\n",
       "      <td>56.000000</td>\n",
       "    </tr>\n",
       "    <tr>\n",
       "      <th>mean</th>\n",
       "      <td>7.327273</td>\n",
       "      <td>7.454545</td>\n",
       "      <td>6.928571</td>\n",
       "      <td>6.836364</td>\n",
       "      <td>7.203704</td>\n",
       "      <td>7.017857</td>\n",
       "      <td>7.232143</td>\n",
       "      <td>7.37500</td>\n",
       "      <td>6.946429</td>\n",
       "      <td>7.267857</td>\n",
       "      <td>7.232143</td>\n",
       "      <td>7.303571</td>\n",
       "    </tr>\n",
       "    <tr>\n",
       "      <th>std</th>\n",
       "      <td>1.347900</td>\n",
       "      <td>0.977870</td>\n",
       "      <td>1.412376</td>\n",
       "      <td>1.584224</td>\n",
       "      <td>1.392427</td>\n",
       "      <td>1.554946</td>\n",
       "      <td>1.651347</td>\n",
       "      <td>1.07132</td>\n",
       "      <td>1.530533</td>\n",
       "      <td>1.368358</td>\n",
       "      <td>1.768318</td>\n",
       "      <td>1.158677</td>\n",
       "    </tr>\n",
       "    <tr>\n",
       "      <th>min</th>\n",
       "      <td>4.000000</td>\n",
       "      <td>5.000000</td>\n",
       "      <td>3.000000</td>\n",
       "      <td>3.000000</td>\n",
       "      <td>5.000000</td>\n",
       "      <td>3.000000</td>\n",
       "      <td>4.000000</td>\n",
       "      <td>4.00000</td>\n",
       "      <td>3.000000</td>\n",
       "      <td>4.000000</td>\n",
       "      <td>4.000000</td>\n",
       "      <td>5.000000</td>\n",
       "    </tr>\n",
       "    <tr>\n",
       "      <th>25%</th>\n",
       "      <td>6.000000</td>\n",
       "      <td>7.000000</td>\n",
       "      <td>6.000000</td>\n",
       "      <td>6.000000</td>\n",
       "      <td>6.000000</td>\n",
       "      <td>6.000000</td>\n",
       "      <td>6.000000</td>\n",
       "      <td>7.00000</td>\n",
       "      <td>6.000000</td>\n",
       "      <td>6.000000</td>\n",
       "      <td>6.000000</td>\n",
       "      <td>7.000000</td>\n",
       "    </tr>\n",
       "    <tr>\n",
       "      <th>50%</th>\n",
       "      <td>7.000000</td>\n",
       "      <td>8.000000</td>\n",
       "      <td>7.000000</td>\n",
       "      <td>7.000000</td>\n",
       "      <td>7.000000</td>\n",
       "      <td>7.000000</td>\n",
       "      <td>7.000000</td>\n",
       "      <td>7.00000</td>\n",
       "      <td>7.000000</td>\n",
       "      <td>7.500000</td>\n",
       "      <td>7.000000</td>\n",
       "      <td>7.000000</td>\n",
       "    </tr>\n",
       "    <tr>\n",
       "      <th>75%</th>\n",
       "      <td>8.000000</td>\n",
       "      <td>8.000000</td>\n",
       "      <td>8.000000</td>\n",
       "      <td>8.000000</td>\n",
       "      <td>8.000000</td>\n",
       "      <td>8.000000</td>\n",
       "      <td>8.000000</td>\n",
       "      <td>8.00000</td>\n",
       "      <td>8.000000</td>\n",
       "      <td>8.000000</td>\n",
       "      <td>9.000000</td>\n",
       "      <td>8.000000</td>\n",
       "    </tr>\n",
       "    <tr>\n",
       "      <th>max</th>\n",
       "      <td>10.000000</td>\n",
       "      <td>10.000000</td>\n",
       "      <td>10.000000</td>\n",
       "      <td>10.000000</td>\n",
       "      <td>10.000000</td>\n",
       "      <td>10.000000</td>\n",
       "      <td>10.000000</td>\n",
       "      <td>9.00000</td>\n",
       "      <td>9.000000</td>\n",
       "      <td>10.000000</td>\n",
       "      <td>10.000000</td>\n",
       "      <td>9.000000</td>\n",
       "    </tr>\n",
       "  </tbody>\n",
       "</table>\n",
       "</div>"
      ],
      "text/plain": [
       "       Academic record  Appearance  Communication  Company Fit  Experience  \\\n",
       "count        55.000000   55.000000      56.000000    55.000000   54.000000   \n",
       "mean          7.327273    7.454545       6.928571     6.836364    7.203704   \n",
       "std           1.347900    0.977870       1.412376     1.584224    1.392427   \n",
       "min           4.000000    5.000000       3.000000     3.000000    5.000000   \n",
       "25%           6.000000    7.000000       6.000000     6.000000    6.000000   \n",
       "50%           7.000000    8.000000       7.000000     7.000000    7.000000   \n",
       "75%           8.000000    8.000000       8.000000     8.000000    8.000000   \n",
       "max          10.000000   10.000000      10.000000    10.000000   10.000000   \n",
       "\n",
       "         Job Fit     Letter  Likeability  Organization  Potential     Resume  \\\n",
       "count  56.000000  56.000000     56.00000     56.000000  56.000000  56.000000   \n",
       "mean    7.017857   7.232143      7.37500      6.946429   7.267857   7.232143   \n",
       "std     1.554946   1.651347      1.07132      1.530533   1.368358   1.768318   \n",
       "min     3.000000   4.000000      4.00000      3.000000   4.000000   4.000000   \n",
       "25%     6.000000   6.000000      7.00000      6.000000   6.000000   6.000000   \n",
       "50%     7.000000   7.000000      7.00000      7.000000   7.500000   7.000000   \n",
       "75%     8.000000   8.000000      8.00000      8.000000   8.000000   9.000000   \n",
       "max    10.000000  10.000000      9.00000      9.000000  10.000000  10.000000   \n",
       "\n",
       "       Self-Confidence  \n",
       "count        56.000000  \n",
       "mean          7.303571  \n",
       "std           1.158677  \n",
       "min           5.000000  \n",
       "25%           7.000000  \n",
       "50%           7.000000  \n",
       "75%           8.000000  \n",
       "max           9.000000  "
      ]
     },
     "execution_count": 4,
     "metadata": {},
     "output_type": "execute_result"
    }
   ],
   "source": [
    "df.describe()"
   ]
  },
  {
   "cell_type": "code",
   "execution_count": 5,
   "id": "014a622f",
   "metadata": {},
   "outputs": [
    {
     "name": "stdout",
     "output_type": "stream",
     "text": [
      "<class 'pandas.core.frame.DataFrame'>\n",
      "RangeIndex: 57 entries, 0 to 56\n",
      "Data columns (total 12 columns):\n",
      " #   Column           Non-Null Count  Dtype  \n",
      "---  ------           --------------  -----  \n",
      " 0   Academic record  55 non-null     float64\n",
      " 1   Appearance       55 non-null     float64\n",
      " 2   Communication    56 non-null     float64\n",
      " 3   Company Fit      55 non-null     float64\n",
      " 4   Experience       54 non-null     float64\n",
      " 5   Job Fit          56 non-null     float64\n",
      " 6   Letter           56 non-null     float64\n",
      " 7   Likeability      56 non-null     float64\n",
      " 8   Organization     56 non-null     float64\n",
      " 9   Potential        56 non-null     float64\n",
      " 10  Resume           56 non-null     float64\n",
      " 11  Self-Confidence  56 non-null     float64\n",
      "dtypes: float64(12)\n",
      "memory usage: 5.5 KB\n"
     ]
    }
   ],
   "source": [
    "df.info()"
   ]
  },
  {
   "cell_type": "code",
   "execution_count": 6,
   "id": "afddd07d",
   "metadata": {},
   "outputs": [
    {
     "data": {
      "text/plain": [
       "Academic record    2\n",
       "Appearance         2\n",
       "Communication      1\n",
       "Company Fit        2\n",
       "Experience         3\n",
       "Job Fit            1\n",
       "Letter             1\n",
       "Likeability        1\n",
       "Organization       1\n",
       "Potential          1\n",
       "Resume             1\n",
       "Self-Confidence    1\n",
       "dtype: int64"
      ]
     },
     "execution_count": 6,
     "metadata": {},
     "output_type": "execute_result"
    }
   ],
   "source": [
    "df.isna().sum()"
   ]
  },
  {
   "cell_type": "code",
   "execution_count": 7,
   "id": "7c95f934",
   "metadata": {},
   "outputs": [
    {
     "data": {
      "text/plain": [
       "3"
      ]
     },
     "execution_count": 7,
     "metadata": {},
     "output_type": "execute_result"
    }
   ],
   "source": [
    "df.duplicated().sum()"
   ]
  },
  {
   "cell_type": "code",
   "execution_count": 8,
   "id": "09ba842d",
   "metadata": {},
   "outputs": [
    {
     "data": {
      "text/plain": [
       "0     False\n",
       "1     False\n",
       "2     False\n",
       "3     False\n",
       "4     False\n",
       "5     False\n",
       "6      True\n",
       "7     False\n",
       "8      True\n",
       "9     False\n",
       "10    False\n",
       "11    False\n",
       "12    False\n",
       "13    False\n",
       "14    False\n",
       "15    False\n",
       "16    False\n",
       "17    False\n",
       "18    False\n",
       "19    False\n",
       "20    False\n",
       "21    False\n",
       "22    False\n",
       "23    False\n",
       "24    False\n",
       "25    False\n",
       "26    False\n",
       "27    False\n",
       "28    False\n",
       "29    False\n",
       "30    False\n",
       "31    False\n",
       "32    False\n",
       "33    False\n",
       "34     True\n",
       "35    False\n",
       "36    False\n",
       "37    False\n",
       "38    False\n",
       "39    False\n",
       "40    False\n",
       "41    False\n",
       "42    False\n",
       "43    False\n",
       "44    False\n",
       "45    False\n",
       "46    False\n",
       "47    False\n",
       "48    False\n",
       "49    False\n",
       "50    False\n",
       "51    False\n",
       "52    False\n",
       "53    False\n",
       "54    False\n",
       "55    False\n",
       "56    False\n",
       "dtype: bool"
      ]
     },
     "execution_count": 8,
     "metadata": {},
     "output_type": "execute_result"
    }
   ],
   "source": [
    "df.duplicated()"
   ]
  },
  {
   "cell_type": "code",
   "execution_count": 9,
   "id": "c095f591",
   "metadata": {},
   "outputs": [
    {
     "data": {
      "text/html": [
       "<div>\n",
       "<style scoped>\n",
       "    .dataframe tbody tr th:only-of-type {\n",
       "        vertical-align: middle;\n",
       "    }\n",
       "\n",
       "    .dataframe tbody tr th {\n",
       "        vertical-align: top;\n",
       "    }\n",
       "\n",
       "    .dataframe thead th {\n",
       "        text-align: right;\n",
       "    }\n",
       "</style>\n",
       "<table border=\"1\" class=\"dataframe\">\n",
       "  <thead>\n",
       "    <tr style=\"text-align: right;\">\n",
       "      <th></th>\n",
       "      <th>Academic record</th>\n",
       "      <th>Appearance</th>\n",
       "      <th>Communication</th>\n",
       "      <th>Company Fit</th>\n",
       "      <th>Experience</th>\n",
       "      <th>Job Fit</th>\n",
       "      <th>Letter</th>\n",
       "      <th>Likeability</th>\n",
       "      <th>Organization</th>\n",
       "      <th>Potential</th>\n",
       "      <th>Resume</th>\n",
       "      <th>Self-Confidence</th>\n",
       "    </tr>\n",
       "  </thead>\n",
       "  <tbody>\n",
       "    <tr>\n",
       "      <th>0</th>\n",
       "      <td>6.0</td>\n",
       "      <td>8.0</td>\n",
       "      <td>7.0</td>\n",
       "      <td>5.0</td>\n",
       "      <td>6.0</td>\n",
       "      <td>5.0</td>\n",
       "      <td>7.0</td>\n",
       "      <td>7.0</td>\n",
       "      <td>7.0</td>\n",
       "      <td>6.0</td>\n",
       "      <td>7.0</td>\n",
       "      <td>7.0</td>\n",
       "    </tr>\n",
       "    <tr>\n",
       "      <th>1</th>\n",
       "      <td>9.0</td>\n",
       "      <td>8.0</td>\n",
       "      <td>8.0</td>\n",
       "      <td>8.0</td>\n",
       "      <td>10.0</td>\n",
       "      <td>9.0</td>\n",
       "      <td>8.0</td>\n",
       "      <td>9.0</td>\n",
       "      <td>8.0</td>\n",
       "      <td>9.0</td>\n",
       "      <td>9.0</td>\n",
       "      <td>9.0</td>\n",
       "    </tr>\n",
       "    <tr>\n",
       "      <th>2</th>\n",
       "      <td>6.0</td>\n",
       "      <td>7.0</td>\n",
       "      <td>7.0</td>\n",
       "      <td>6.0</td>\n",
       "      <td>6.0</td>\n",
       "      <td>7.0</td>\n",
       "      <td>7.0</td>\n",
       "      <td>8.0</td>\n",
       "      <td>8.0</td>\n",
       "      <td>6.0</td>\n",
       "      <td>6.0</td>\n",
       "      <td>8.0</td>\n",
       "    </tr>\n",
       "    <tr>\n",
       "      <th>3</th>\n",
       "      <td>7.0</td>\n",
       "      <td>8.0</td>\n",
       "      <td>6.0</td>\n",
       "      <td>5.0</td>\n",
       "      <td>8.0</td>\n",
       "      <td>5.0</td>\n",
       "      <td>9.0</td>\n",
       "      <td>8.0</td>\n",
       "      <td>7.0</td>\n",
       "      <td>8.0</td>\n",
       "      <td>7.0</td>\n",
       "      <td>7.0</td>\n",
       "    </tr>\n",
       "    <tr>\n",
       "      <th>4</th>\n",
       "      <td>4.0</td>\n",
       "      <td>7.0</td>\n",
       "      <td>8.0</td>\n",
       "      <td>6.0</td>\n",
       "      <td>6.0</td>\n",
       "      <td>6.0</td>\n",
       "      <td>6.0</td>\n",
       "      <td>7.0</td>\n",
       "      <td>8.0</td>\n",
       "      <td>5.0</td>\n",
       "      <td>4.0</td>\n",
       "      <td>6.0</td>\n",
       "    </tr>\n",
       "  </tbody>\n",
       "</table>\n",
       "</div>"
      ],
      "text/plain": [
       "   Academic record  Appearance  Communication  Company Fit  Experience  \\\n",
       "0              6.0         8.0            7.0          5.0         6.0   \n",
       "1              9.0         8.0            8.0          8.0        10.0   \n",
       "2              6.0         7.0            7.0          6.0         6.0   \n",
       "3              7.0         8.0            6.0          5.0         8.0   \n",
       "4              4.0         7.0            8.0          6.0         6.0   \n",
       "\n",
       "   Job Fit  Letter  Likeability  Organization  Potential  Resume  \\\n",
       "0      5.0     7.0          7.0           7.0        6.0     7.0   \n",
       "1      9.0     8.0          9.0           8.0        9.0     9.0   \n",
       "2      7.0     7.0          8.0           8.0        6.0     6.0   \n",
       "3      5.0     9.0          8.0           7.0        8.0     7.0   \n",
       "4      6.0     6.0          7.0           8.0        5.0     4.0   \n",
       "\n",
       "   Self-Confidence  \n",
       "0              7.0  \n",
       "1              9.0  \n",
       "2              8.0  \n",
       "3              7.0  \n",
       "4              6.0  "
      ]
     },
     "execution_count": 9,
     "metadata": {},
     "output_type": "execute_result"
    }
   ],
   "source": [
    "df_cleaned = df.dropna()\n",
    "df_cleaned.head()"
   ]
  },
  {
   "cell_type": "code",
   "execution_count": 10,
   "id": "b3c723b4",
   "metadata": {},
   "outputs": [
    {
     "data": {
      "text/plain": [
       "Academic record    0\n",
       "Appearance         0\n",
       "Communication      0\n",
       "Company Fit        0\n",
       "Experience         0\n",
       "Job Fit            0\n",
       "Letter             0\n",
       "Likeability        0\n",
       "Organization       0\n",
       "Potential          0\n",
       "Resume             0\n",
       "Self-Confidence    0\n",
       "dtype: int64"
      ]
     },
     "execution_count": 10,
     "metadata": {},
     "output_type": "execute_result"
    }
   ],
   "source": [
    "df_cleaned.isna().sum()"
   ]
  },
  {
   "cell_type": "code",
   "execution_count": 11,
   "id": "419e1a27",
   "metadata": {},
   "outputs": [
    {
     "data": {
      "text/html": [
       "<div>\n",
       "<style scoped>\n",
       "    .dataframe tbody tr th:only-of-type {\n",
       "        vertical-align: middle;\n",
       "    }\n",
       "\n",
       "    .dataframe tbody tr th {\n",
       "        vertical-align: top;\n",
       "    }\n",
       "\n",
       "    .dataframe thead th {\n",
       "        text-align: right;\n",
       "    }\n",
       "</style>\n",
       "<table border=\"1\" class=\"dataframe\">\n",
       "  <thead>\n",
       "    <tr style=\"text-align: right;\">\n",
       "      <th></th>\n",
       "      <th>Academic record</th>\n",
       "      <th>Appearance</th>\n",
       "      <th>Communication</th>\n",
       "      <th>Company Fit</th>\n",
       "      <th>Experience</th>\n",
       "      <th>Job Fit</th>\n",
       "      <th>Letter</th>\n",
       "      <th>Likeability</th>\n",
       "      <th>Organization</th>\n",
       "      <th>Potential</th>\n",
       "      <th>Resume</th>\n",
       "      <th>Self-Confidence</th>\n",
       "    </tr>\n",
       "  </thead>\n",
       "  <tbody>\n",
       "    <tr>\n",
       "      <th>0</th>\n",
       "      <td>6.0</td>\n",
       "      <td>8.0</td>\n",
       "      <td>7.0</td>\n",
       "      <td>5.0</td>\n",
       "      <td>6.0</td>\n",
       "      <td>5.0</td>\n",
       "      <td>7.0</td>\n",
       "      <td>7.0</td>\n",
       "      <td>7.0</td>\n",
       "      <td>6.0</td>\n",
       "      <td>7.0</td>\n",
       "      <td>7.0</td>\n",
       "    </tr>\n",
       "    <tr>\n",
       "      <th>1</th>\n",
       "      <td>9.0</td>\n",
       "      <td>8.0</td>\n",
       "      <td>8.0</td>\n",
       "      <td>8.0</td>\n",
       "      <td>10.0</td>\n",
       "      <td>9.0</td>\n",
       "      <td>8.0</td>\n",
       "      <td>9.0</td>\n",
       "      <td>8.0</td>\n",
       "      <td>9.0</td>\n",
       "      <td>9.0</td>\n",
       "      <td>9.0</td>\n",
       "    </tr>\n",
       "    <tr>\n",
       "      <th>2</th>\n",
       "      <td>6.0</td>\n",
       "      <td>7.0</td>\n",
       "      <td>7.0</td>\n",
       "      <td>6.0</td>\n",
       "      <td>6.0</td>\n",
       "      <td>7.0</td>\n",
       "      <td>7.0</td>\n",
       "      <td>8.0</td>\n",
       "      <td>8.0</td>\n",
       "      <td>6.0</td>\n",
       "      <td>6.0</td>\n",
       "      <td>8.0</td>\n",
       "    </tr>\n",
       "    <tr>\n",
       "      <th>3</th>\n",
       "      <td>7.0</td>\n",
       "      <td>8.0</td>\n",
       "      <td>6.0</td>\n",
       "      <td>5.0</td>\n",
       "      <td>8.0</td>\n",
       "      <td>5.0</td>\n",
       "      <td>9.0</td>\n",
       "      <td>8.0</td>\n",
       "      <td>7.0</td>\n",
       "      <td>8.0</td>\n",
       "      <td>7.0</td>\n",
       "      <td>7.0</td>\n",
       "    </tr>\n",
       "    <tr>\n",
       "      <th>4</th>\n",
       "      <td>4.0</td>\n",
       "      <td>7.0</td>\n",
       "      <td>8.0</td>\n",
       "      <td>6.0</td>\n",
       "      <td>6.0</td>\n",
       "      <td>6.0</td>\n",
       "      <td>6.0</td>\n",
       "      <td>7.0</td>\n",
       "      <td>8.0</td>\n",
       "      <td>5.0</td>\n",
       "      <td>4.0</td>\n",
       "      <td>6.0</td>\n",
       "    </tr>\n",
       "  </tbody>\n",
       "</table>\n",
       "</div>"
      ],
      "text/plain": [
       "   Academic record  Appearance  Communication  Company Fit  Experience  \\\n",
       "0              6.0         8.0            7.0          5.0         6.0   \n",
       "1              9.0         8.0            8.0          8.0        10.0   \n",
       "2              6.0         7.0            7.0          6.0         6.0   \n",
       "3              7.0         8.0            6.0          5.0         8.0   \n",
       "4              4.0         7.0            8.0          6.0         6.0   \n",
       "\n",
       "   Job Fit  Letter  Likeability  Organization  Potential  Resume  \\\n",
       "0      5.0     7.0          7.0           7.0        6.0     7.0   \n",
       "1      9.0     8.0          9.0           8.0        9.0     9.0   \n",
       "2      7.0     7.0          8.0           8.0        6.0     6.0   \n",
       "3      5.0     9.0          8.0           7.0        8.0     7.0   \n",
       "4      6.0     6.0          7.0           8.0        5.0     4.0   \n",
       "\n",
       "   Self-Confidence  \n",
       "0              7.0  \n",
       "1              9.0  \n",
       "2              8.0  \n",
       "3              7.0  \n",
       "4              6.0  "
      ]
     },
     "execution_count": 11,
     "metadata": {},
     "output_type": "execute_result"
    }
   ],
   "source": [
    "df_cleaned = df_cleaned.drop_duplicates()\n",
    "df_cleaned.head()"
   ]
  },
  {
   "cell_type": "code",
   "execution_count": 12,
   "id": "06005895",
   "metadata": {},
   "outputs": [
    {
     "data": {
      "text/plain": [
       "0"
      ]
     },
     "execution_count": 12,
     "metadata": {},
     "output_type": "execute_result"
    }
   ],
   "source": [
    "df_cleaned.duplicated().sum()"
   ]
  },
  {
   "cell_type": "code",
   "execution_count": 13,
   "id": "d4e46ade",
   "metadata": {},
   "outputs": [
    {
     "name": "stdout",
     "output_type": "stream",
     "text": [
      "Index(['Academic record', 'Appearance', 'Communication', 'Company Fit',\n",
      "       'Experience', 'Job Fit', 'Letter', 'Likeability', 'Organization',\n",
      "       'Potential', 'Resume', 'Self-Confidence'],\n",
      "      dtype='object')\n",
      "Index([ 0,  1,  2,  3,  4,  7,  9, 10, 11, 12, 13, 14, 15, 16, 17, 19, 20, 21,\n",
      "       22, 23, 24, 25, 26, 27, 28, 29, 30, 31, 32, 33, 35, 36, 37, 38, 39, 40,\n",
      "       41, 42, 43, 44, 46, 47, 48, 49, 50, 51, 53, 54, 55, 56],\n",
      "      dtype='int64')\n"
     ]
    }
   ],
   "source": [
    "print(df_cleaned.columns)\n",
    "print(df_cleaned.index)"
   ]
  },
  {
   "cell_type": "code",
   "execution_count": 14,
   "id": "00dd8f20",
   "metadata": {
    "scrolled": true
   },
   "outputs": [
    {
     "data": {
      "text/plain": [
       "(50, 12)"
      ]
     },
     "execution_count": 14,
     "metadata": {},
     "output_type": "execute_result"
    }
   ],
   "source": [
    "df_cleaned.shape"
   ]
  },
  {
   "cell_type": "markdown",
   "id": "3215ec5b",
   "metadata": {},
   "source": [
    "### Start Factor Anayzing"
   ]
  },
  {
   "cell_type": "code",
   "execution_count": 15,
   "id": "0a11cc3e",
   "metadata": {},
   "outputs": [],
   "source": [
    "fa = FactorAnalyzer(n_factors=3, rotation=None)"
   ]
  },
  {
   "cell_type": "code",
   "execution_count": 16,
   "id": "a088ed04",
   "metadata": {
    "scrolled": true
   },
   "outputs": [
    {
     "data": {
      "text/html": [
       "<style>#sk-container-id-1 {color: black;}#sk-container-id-1 pre{padding: 0;}#sk-container-id-1 div.sk-toggleable {background-color: white;}#sk-container-id-1 label.sk-toggleable__label {cursor: pointer;display: block;width: 100%;margin-bottom: 0;padding: 0.3em;box-sizing: border-box;text-align: center;}#sk-container-id-1 label.sk-toggleable__label-arrow:before {content: \"▸\";float: left;margin-right: 0.25em;color: #696969;}#sk-container-id-1 label.sk-toggleable__label-arrow:hover:before {color: black;}#sk-container-id-1 div.sk-estimator:hover label.sk-toggleable__label-arrow:before {color: black;}#sk-container-id-1 div.sk-toggleable__content {max-height: 0;max-width: 0;overflow: hidden;text-align: left;background-color: #f0f8ff;}#sk-container-id-1 div.sk-toggleable__content pre {margin: 0.2em;color: black;border-radius: 0.25em;background-color: #f0f8ff;}#sk-container-id-1 input.sk-toggleable__control:checked~div.sk-toggleable__content {max-height: 200px;max-width: 100%;overflow: auto;}#sk-container-id-1 input.sk-toggleable__control:checked~label.sk-toggleable__label-arrow:before {content: \"▾\";}#sk-container-id-1 div.sk-estimator input.sk-toggleable__control:checked~label.sk-toggleable__label {background-color: #d4ebff;}#sk-container-id-1 div.sk-label input.sk-toggleable__control:checked~label.sk-toggleable__label {background-color: #d4ebff;}#sk-container-id-1 input.sk-hidden--visually {border: 0;clip: rect(1px 1px 1px 1px);clip: rect(1px, 1px, 1px, 1px);height: 1px;margin: -1px;overflow: hidden;padding: 0;position: absolute;width: 1px;}#sk-container-id-1 div.sk-estimator {font-family: monospace;background-color: #f0f8ff;border: 1px dotted black;border-radius: 0.25em;box-sizing: border-box;margin-bottom: 0.5em;}#sk-container-id-1 div.sk-estimator:hover {background-color: #d4ebff;}#sk-container-id-1 div.sk-parallel-item::after {content: \"\";width: 100%;border-bottom: 1px solid gray;flex-grow: 1;}#sk-container-id-1 div.sk-label:hover label.sk-toggleable__label {background-color: #d4ebff;}#sk-container-id-1 div.sk-serial::before {content: \"\";position: absolute;border-left: 1px solid gray;box-sizing: border-box;top: 0;bottom: 0;left: 50%;z-index: 0;}#sk-container-id-1 div.sk-serial {display: flex;flex-direction: column;align-items: center;background-color: white;padding-right: 0.2em;padding-left: 0.2em;position: relative;}#sk-container-id-1 div.sk-item {position: relative;z-index: 1;}#sk-container-id-1 div.sk-parallel {display: flex;align-items: stretch;justify-content: center;background-color: white;position: relative;}#sk-container-id-1 div.sk-item::before, #sk-container-id-1 div.sk-parallel-item::before {content: \"\";position: absolute;border-left: 1px solid gray;box-sizing: border-box;top: 0;bottom: 0;left: 50%;z-index: -1;}#sk-container-id-1 div.sk-parallel-item {display: flex;flex-direction: column;z-index: 1;position: relative;background-color: white;}#sk-container-id-1 div.sk-parallel-item:first-child::after {align-self: flex-end;width: 50%;}#sk-container-id-1 div.sk-parallel-item:last-child::after {align-self: flex-start;width: 50%;}#sk-container-id-1 div.sk-parallel-item:only-child::after {width: 0;}#sk-container-id-1 div.sk-dashed-wrapped {border: 1px dashed gray;margin: 0 0.4em 0.5em 0.4em;box-sizing: border-box;padding-bottom: 0.4em;background-color: white;}#sk-container-id-1 div.sk-label label {font-family: monospace;font-weight: bold;display: inline-block;line-height: 1.2em;}#sk-container-id-1 div.sk-label-container {text-align: center;}#sk-container-id-1 div.sk-container {/* jupyter's `normalize.less` sets `[hidden] { display: none; }` but bootstrap.min.css set `[hidden] { display: none !important; }` so we also need the `!important` here to be able to override the default hidden behavior on the sphinx rendered scikit-learn.org. See: https://github.com/scikit-learn/scikit-learn/issues/21755 */display: inline-block !important;position: relative;}#sk-container-id-1 div.sk-text-repr-fallback {display: none;}</style><div id=\"sk-container-id-1\" class=\"sk-top-container\"><div class=\"sk-text-repr-fallback\"><pre>FactorAnalyzer(rotation=None, rotation_kwargs={})</pre><b>In a Jupyter environment, please rerun this cell to show the HTML representation or trust the notebook. <br />On GitHub, the HTML representation is unable to render, please try loading this page with nbviewer.org.</b></div><div class=\"sk-container\" hidden><div class=\"sk-item\"><div class=\"sk-estimator sk-toggleable\"><input class=\"sk-toggleable__control sk-hidden--visually\" id=\"sk-estimator-id-1\" type=\"checkbox\" checked><label for=\"sk-estimator-id-1\" class=\"sk-toggleable__label sk-toggleable__label-arrow\">FactorAnalyzer</label><div class=\"sk-toggleable__content\"><pre>FactorAnalyzer(rotation=None, rotation_kwargs={})</pre></div></div></div></div></div>"
      ],
      "text/plain": [
       "FactorAnalyzer(rotation=None, rotation_kwargs={})"
      ]
     },
     "execution_count": 16,
     "metadata": {},
     "output_type": "execute_result"
    }
   ],
   "source": [
    "fa.fit(df_cleaned)"
   ]
  },
  {
   "cell_type": "code",
   "execution_count": 17,
   "id": "f9338202",
   "metadata": {},
   "outputs": [],
   "source": [
    "factor_score = fa.transform(df_cleaned)"
   ]
  },
  {
   "cell_type": "code",
   "execution_count": 18,
   "id": "340bb2e8",
   "metadata": {
    "scrolled": true
   },
   "outputs": [
    {
     "name": "stdout",
     "output_type": "stream",
     "text": [
      "     Factor1   Factor2   Factor3\n",
      "0  -0.610491 -0.607088  0.811590\n",
      "1   1.373064  0.135674 -0.827947\n",
      "2  -0.265977 -1.158053  0.898808\n",
      "3   0.173422  0.943746  0.721393\n",
      "4  -1.142362 -1.645544  0.813745\n",
      "5  -0.711235 -1.415641 -0.655064\n",
      "6  -0.322490  0.929281  0.549465\n",
      "7  -0.865093  1.283463 -0.095247\n",
      "8   1.037165  0.914555  1.332911\n",
      "9  -0.182167 -0.811773  1.414805\n",
      "10 -0.158520 -1.922368  0.842081\n",
      "11 -1.465614  1.295256 -0.371153\n",
      "12 -2.102388 -1.052479  0.048907\n",
      "13  1.895574  0.742273  0.225553\n",
      "14  0.539141  0.736379  0.645498\n",
      "15 -2.043397  0.153449 -0.974472\n",
      "16 -0.682475  1.041241 -2.109507\n",
      "17  1.072853 -0.469707 -1.065913\n",
      "18 -0.520157  0.752383 -0.882074\n",
      "19  1.481906 -0.618114 -0.636379\n",
      "20  1.704911  0.814551  0.500997\n",
      "21 -0.835780 -0.197654 -1.791142\n",
      "22  0.079374 -1.052091 -1.357351\n",
      "23 -1.049778  0.046438 -1.192094\n",
      "24  0.192281 -0.790863 -0.351299\n",
      "25 -0.077819 -1.786915 -0.996723\n",
      "26  0.804333  0.501478  1.284774\n",
      "27  0.317643 -0.652352 -1.085713\n",
      "28 -0.789276  0.471390  1.221152\n",
      "29  0.696406  0.481888  0.665831\n",
      "30  1.270453 -0.126761 -0.205465\n",
      "31  1.380395 -0.505161 -0.364127\n",
      "32 -0.120680 -1.966475 -1.127500\n",
      "33  0.677374 -0.302937 -0.454254\n",
      "34  1.368960 -0.566717 -0.499632\n",
      "35 -0.293826 -1.274768  0.192417\n",
      "36 -0.324745  1.357883  0.063703\n",
      "37  0.599367  0.567058  0.833614\n",
      "38 -1.520432  1.005131  0.732170\n",
      "39  0.710873  0.112419 -0.051998\n",
      "40 -0.863611  0.836013  2.359820\n",
      "41 -2.159328 -0.114324  1.096045\n",
      "42  0.622912  0.145702 -0.310075\n",
      "43  0.141273  0.190232  0.519546\n",
      "44 -0.292819  1.525560 -1.773254\n",
      "45  0.421369  0.885518  1.762418\n",
      "46  0.667331  0.682530 -0.897593\n",
      "47 -0.377281 -0.319471  0.272142\n",
      "48 -0.307505  1.511381 -0.958419\n",
      "49  0.856865 -0.705615  1.225010\n"
     ]
    }
   ],
   "source": [
    "print(pd.DataFrame(factor_score, columns=['Factor1', 'Factor2', 'Factor3']))"
   ]
  },
  {
   "cell_type": "markdown",
   "id": "925ca827",
   "metadata": {},
   "source": [
    "In this stage, factor scores are computed for every observation within the dataset, reflecting the approximated values of latent factors assigned to each individual."
   ]
  },
  {
   "cell_type": "code",
   "execution_count": 29,
   "id": "49b60a0c",
   "metadata": {},
   "outputs": [
    {
     "data": {
      "text/html": [
       "<div>\n",
       "<style scoped>\n",
       "    .dataframe tbody tr th:only-of-type {\n",
       "        vertical-align: middle;\n",
       "    }\n",
       "\n",
       "    .dataframe tbody tr th {\n",
       "        vertical-align: top;\n",
       "    }\n",
       "\n",
       "    .dataframe thead th {\n",
       "        text-align: right;\n",
       "    }\n",
       "</style>\n",
       "<table border=\"1\" class=\"dataframe\">\n",
       "  <thead>\n",
       "    <tr style=\"text-align: right;\">\n",
       "      <th></th>\n",
       "      <th>Factor1</th>\n",
       "      <th>Factor2</th>\n",
       "      <th>Factor3</th>\n",
       "    </tr>\n",
       "  </thead>\n",
       "  <tbody>\n",
       "    <tr>\n",
       "      <th>0</th>\n",
       "      <td>0.704377</td>\n",
       "      <td>0.230115</td>\n",
       "      <td>-0.312184</td>\n",
       "    </tr>\n",
       "    <tr>\n",
       "      <th>1</th>\n",
       "      <td>0.677752</td>\n",
       "      <td>-0.199460</td>\n",
       "      <td>-0.030283</td>\n",
       "    </tr>\n",
       "    <tr>\n",
       "      <th>2</th>\n",
       "      <td>0.693536</td>\n",
       "      <td>-0.409665</td>\n",
       "      <td>0.184575</td>\n",
       "    </tr>\n",
       "    <tr>\n",
       "      <th>3</th>\n",
       "      <td>0.772166</td>\n",
       "      <td>-0.093757</td>\n",
       "      <td>-0.043946</td>\n",
       "    </tr>\n",
       "    <tr>\n",
       "      <th>4</th>\n",
       "      <td>0.629016</td>\n",
       "      <td>0.491318</td>\n",
       "      <td>-0.208657</td>\n",
       "    </tr>\n",
       "    <tr>\n",
       "      <th>5</th>\n",
       "      <td>0.785608</td>\n",
       "      <td>0.020151</td>\n",
       "      <td>-0.104399</td>\n",
       "    </tr>\n",
       "    <tr>\n",
       "      <th>6</th>\n",
       "      <td>0.644775</td>\n",
       "      <td>0.408517</td>\n",
       "      <td>0.641518</td>\n",
       "    </tr>\n",
       "    <tr>\n",
       "      <th>7</th>\n",
       "      <td>0.700482</td>\n",
       "      <td>-0.219821</td>\n",
       "      <td>-0.000668</td>\n",
       "    </tr>\n",
       "    <tr>\n",
       "      <th>8</th>\n",
       "      <td>0.701990</td>\n",
       "      <td>-0.550007</td>\n",
       "      <td>0.125485</td>\n",
       "    </tr>\n",
       "    <tr>\n",
       "      <th>9</th>\n",
       "      <td>0.824943</td>\n",
       "      <td>0.235139</td>\n",
       "      <td>-0.414502</td>\n",
       "    </tr>\n",
       "    <tr>\n",
       "      <th>10</th>\n",
       "      <td>0.700881</td>\n",
       "      <td>0.316920</td>\n",
       "      <td>0.392180</td>\n",
       "    </tr>\n",
       "    <tr>\n",
       "      <th>11</th>\n",
       "      <td>0.677421</td>\n",
       "      <td>-0.198825</td>\n",
       "      <td>-0.110090</td>\n",
       "    </tr>\n",
       "  </tbody>\n",
       "</table>\n",
       "</div>"
      ],
      "text/plain": [
       "     Factor1   Factor2   Factor3\n",
       "0   0.704377  0.230115 -0.312184\n",
       "1   0.677752 -0.199460 -0.030283\n",
       "2   0.693536 -0.409665  0.184575\n",
       "3   0.772166 -0.093757 -0.043946\n",
       "4   0.629016  0.491318 -0.208657\n",
       "5   0.785608  0.020151 -0.104399\n",
       "6   0.644775  0.408517  0.641518\n",
       "7   0.700482 -0.219821 -0.000668\n",
       "8   0.701990 -0.550007  0.125485\n",
       "9   0.824943  0.235139 -0.414502\n",
       "10  0.700881  0.316920  0.392180\n",
       "11  0.677421 -0.198825 -0.110090"
      ]
     },
     "execution_count": 29,
     "metadata": {},
     "output_type": "execute_result"
    }
   ],
   "source": [
    "pd.DataFrame(fa.loadings_, columns=['Factor1', 'Factor2', 'Factor3'])"
   ]
  },
  {
   "cell_type": "markdown",
   "id": "447b7381",
   "metadata": {},
   "source": [
    "During this phase, I extract and present the factor loadings, which indicate both the magnitude and direction of the association between each observed variable and the latent factors."
   ]
  },
  {
   "cell_type": "code",
   "execution_count": 20,
   "id": "b96eb8d6",
   "metadata": {
    "scrolled": true
   },
   "outputs": [
    {
     "name": "stdout",
     "output_type": "stream",
     "text": [
      "Eigen Vectors\n",
      "[6.3876438  1.48846472 1.10447808 1.05164512 0.63250779 0.36695649\n",
      " 0.30158363 0.21291441 0.15571561 0.13792457 0.08512934 0.07503646]\n",
      "Eigen Values\n",
      "[ 6.07403911  1.2232383   0.95450926  0.64417437  0.27329287  0.03435746\n",
      "  0.00945906 -0.08946271 -0.12879384 -0.17971332 -0.25349849 -0.30819805]\n"
     ]
    }
   ],
   "source": [
    "ev, v = fa.get_eigenvalues()\n",
    "print(\"Eigen Vectors\")\n",
    "print(ev)\n",
    "print(\"Eigen Values\")\n",
    "print(v)"
   ]
  },
  {
   "cell_type": "markdown",
   "id": "379216af",
   "metadata": {},
   "source": [
    "It extracts eigenvalues and eigenvectors from the factor analysis model using the get_eigenvalues() method. Eigenvalues, stored in the variable ev, represent the variance explained by each factor, while eigenvectors, stored in the variable v, provide information about the direction and strength of these factors."
   ]
  },
  {
   "cell_type": "code",
   "execution_count": 21,
   "id": "ebe406de",
   "metadata": {
    "scrolled": true
   },
   "outputs": [
    {
     "data": {
      "text/plain": [
       "(array([6.07543322, 1.22412854, 0.95384228]),\n",
       " array([0.5062861 , 0.10201071, 0.07948686]),\n",
       " array([0.5062861 , 0.60829681, 0.68778367]))"
      ]
     },
     "execution_count": 21,
     "metadata": {},
     "output_type": "execute_result"
    }
   ],
   "source": [
    "fa.get_factor_variance()"
   ]
  },
  {
   "cell_type": "markdown",
   "id": "5f7a3a9a",
   "metadata": {},
   "source": [
    "The method likely returns information about the variance explained by the identified factors."
   ]
  },
  {
   "cell_type": "code",
   "execution_count": 22,
   "id": "0c4c156b",
   "metadata": {
    "scrolled": false
   },
   "outputs": [
    {
     "data": {
      "text/plain": [
       "array([[1.        , 0.4701427 , 0.40540675, 0.49921833, 0.66723896,\n",
       "        0.53934351, 0.32694569, 0.39901338, 0.35789909, 0.79519787,\n",
       "        0.46064185, 0.40677173],\n",
       "       [0.4701427 , 1.        , 0.49397198, 0.41708061, 0.30994655,\n",
       "        0.41057625, 0.30349166, 0.6392098 , 0.53701931, 0.51335411,\n",
       "        0.49863091, 0.69670651],\n",
       "       [0.40540675, 0.49397198, 1.        , 0.59073869, 0.19600945,\n",
       "        0.50508081, 0.4033781 , 0.49004375, 0.86179762, 0.42060293,\n",
       "        0.42553356, 0.43094271],\n",
       "       [0.49921833, 0.41708061, 0.59073869, 1.        , 0.39596781,\n",
       "        0.88205803, 0.45394382, 0.48428122, 0.62230511, 0.65864258,\n",
       "        0.44321897, 0.4616973 ],\n",
       "       [0.66723896, 0.30994655, 0.19600945, 0.39596781, 1.        ,\n",
       "        0.52245009, 0.48002481, 0.30588382, 0.17321088, 0.70355416,\n",
       "        0.51724399, 0.40378816],\n",
       "       [0.53934351, 0.41057625, 0.50508081, 0.88205803, 0.52245009,\n",
       "        1.        , 0.46520769, 0.53055212, 0.52748727, 0.70576351,\n",
       "        0.46078966, 0.46542675],\n",
       "       [0.32694569, 0.30349166, 0.4033781 , 0.45394382, 0.48002481,\n",
       "        0.46520769, 1.        , 0.35729017, 0.33727128, 0.38465553,\n",
       "        0.83688717, 0.23231773],\n",
       "       [0.39901338, 0.6392098 , 0.49004375, 0.48428122, 0.30588382,\n",
       "        0.53055212, 0.35729017, 1.        , 0.52589186, 0.48816763,\n",
       "        0.46856633, 0.75322819],\n",
       "       [0.35789909, 0.53701931, 0.86179762, 0.62230511, 0.17321088,\n",
       "        0.52748727, 0.33727128, 0.52589186, 1.        , 0.41999597,\n",
       "        0.29687674, 0.49002985],\n",
       "       [0.79519787, 0.51335411, 0.42060293, 0.65864258, 0.70355416,\n",
       "        0.70576351, 0.38465553, 0.48816763, 0.41999597, 1.        ,\n",
       "        0.45700463, 0.50061947],\n",
       "       [0.46064185, 0.49863091, 0.42553356, 0.44321897, 0.51724399,\n",
       "        0.46078966, 0.83688717, 0.46856633, 0.29687674, 0.45700463,\n",
       "        1.        , 0.43348816],\n",
       "       [0.40677173, 0.69670651, 0.43094271, 0.4616973 , 0.40378816,\n",
       "        0.46542675, 0.23231773, 0.75322819, 0.49002985, 0.50061947,\n",
       "        0.43348816, 1.        ]])"
      ]
     },
     "execution_count": 22,
     "metadata": {},
     "output_type": "execute_result"
    }
   ],
   "source": [
    "correlation = fa.corr_\n",
    "correlation"
   ]
  },
  {
   "cell_type": "markdown",
   "id": "9a586860",
   "metadata": {},
   "source": [
    "provides a comprehensive overview of the relationships between the observed variables in the dataset. Analyzing this correlation matrix can offer insights into the patterns and strengths of associations among the variables"
   ]
  },
  {
   "cell_type": "code",
   "execution_count": 23,
   "id": "81b5f862",
   "metadata": {},
   "outputs": [
    {
     "name": "stdout",
     "output_type": "stream",
     "text": [
      "Factor Correlation Matrix\n",
      "    Factor1   Factor2   Factor3\n",
      "0  1.000000  0.022795  0.008870\n",
      "1  0.022795  1.000000  0.075435\n",
      "2  0.008870  0.075435  1.000000\n"
     ]
    }
   ],
   "source": [
    "factor_correlation_matrix = np.corrcoef(factor_score.T)\n",
    "factor_correlation_df = pd.DataFrame(factor_correlation_matrix, columns=['Factor1', 'Factor2', 'Factor3'])\n",
    "print(\"Factor Correlation Matrix\")\n",
    "print(factor_correlation_df)"
   ]
  },
  {
   "cell_type": "markdown",
   "id": "ee5f76af",
   "metadata": {},
   "source": [
    "it make the same but after *Factorization*"
   ]
  },
  {
   "cell_type": "code",
   "execution_count": 24,
   "id": "4dea4530",
   "metadata": {
    "scrolled": true
   },
   "outputs": [
    {
     "data": {
      "text/plain": [
       "(50, 3)"
      ]
     },
     "execution_count": 24,
     "metadata": {},
     "output_type": "execute_result"
    }
   ],
   "source": [
    "factor_score.shape"
   ]
  },
  {
   "cell_type": "markdown",
   "id": "bbe42a95",
   "metadata": {},
   "source": [
    "### Visualization"
   ]
  },
  {
   "cell_type": "code",
   "execution_count": 25,
   "id": "1bf1375a",
   "metadata": {},
   "outputs": [],
   "source": [
    "import matplotlib.pyplot as plt\n",
    "import seaborn as sns"
   ]
  },
  {
   "cell_type": "code",
   "execution_count": 26,
   "id": "d818d252",
   "metadata": {
    "scrolled": true
   },
   "outputs": [
    {
     "data": {
      "image/png": "[encoded data removed]",
      "text/plain": [
       "<Figure size 640x480 with 1 Axes>"
      ]
     },
     "metadata": {},
     "output_type": "display_data"
    }
   ],
   "source": [
    "plt.scatter(range(1,df.shape[1]+1), ev)\n",
    "plt.plot(range(1,df.shape[1]+1), ev)\n",
    "plt.grid()\n",
    "plt.show()"
   ]
  },
  {
   "cell_type": "markdown",
   "id": "af427dfc",
   "metadata": {},
   "source": [
    "### Before Factorization"
   ]
  },
  {
   "cell_type": "code",
   "execution_count": 27,
   "id": "4e2994d2",
   "metadata": {},
   "outputs": [
    {
     "data": {
      "image/png": "[encoded data removed]",
      "text/plain": [
       "<Figure size 1000x800 with 2 Axes>"
      ]
     },
     "metadata": {},
     "output_type": "display_data"
    }
   ],
   "source": [
    "plt.figure(figsize=(10, 8))\n",
    "sns.heatmap(correlation, annot=True, cmap='BuGn', fmt='.2f', linewidths=0.5)\n",
    "plt.title('Correlation Matrix')\n",
    "plt.show()"
   ]
  },
  {
   "cell_type": "markdown",
   "id": "034b7051",
   "metadata": {},
   "source": [
    "### After Factorization"
   ]
  },
  {
   "cell_type": "code",
   "execution_count": 28,
   "id": "dedff604",
   "metadata": {},
   "outputs": [
    {
     "data": {
      "image/png": "[encoded data removed]",
      "text/plain": [
       "<Figure size 1000x800 with 2 Axes>"
      ]
     },
     "metadata": {},
     "output_type": "display_data"
    }
   ],
   "source": [
    "plt.figure(figsize=(10, 8))\n",
    "sns.heatmap(factor_correlation_matrix, annot=True, cmap='BuGn', fmt='.2f', linewidths=0.5)\n",
    "plt.title('Factor Correlation Matrix')\n",
    "plt.show()"
   ]
  }
 ],
 "metadata": {
  "kernelspec": {
   "display_name": "Python 3 (ipykernel)",
   "language": "python",
   "name": "python3"
  },
  "language_info": {
   "codemirror_mode": {
    "name": "ipython",
    "version": 3
   },
   "file_extension": ".py",
   "mimetype": "text/x-python",
   "name": "python",
   "nbconvert_exporter": "python",
   "pygments_lexer": "ipython3",
   "version": "3.11.5"
  }
 },
 "nbformat": 4,
 "nbformat_minor": 5
}
